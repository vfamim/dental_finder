{
 "cells": [
  {
   "cell_type": "markdown",
   "id": "04c522e5-f8f2-4228-89d5-2307efb4cc85",
   "metadata": {
    "editable": true,
    "slideshow": {
     "slide_type": ""
    },
    "tags": []
   },
   "source": [
    "# 0.0. Imports"
   ]
  },
  {
   "cell_type": "code",
   "execution_count": 1,
   "id": "fb337eb7-1d84-4c12-8dd8-9464b9465eb5",
   "metadata": {},
   "outputs": [],
   "source": [
    "import pandas as pd\n",
    "import zipfile\n",
    "import re\n",
    "from pathlib import Path"
   ]
  },
  {
   "cell_type": "markdown",
   "id": "1da8bd79-5668-4111-94fe-1378dbf42d88",
   "metadata": {},
   "source": [
    "# 1.0. Load Data"
   ]
  },
  {
   "cell_type": "code",
   "execution_count": 2,
   "id": "8e881f97-cfa3-4790-b366-e9f78e55f878",
   "metadata": {},
   "outputs": [],
   "source": [
    "raw_data_path = Path().resolve().parent / \"data\" / \"raw/\""
   ]
  },
  {
   "cell_type": "code",
   "execution_count": 3,
   "id": "a8a1c11c-d21c-4727-9767-4b8c0c9d2929",
   "metadata": {},
   "outputs": [
    {
     "name": "stdout",
     "output_type": "stream",
     "text": [
      "['subscriptions (2).csv', 'activity (1).csv', 'clinics (1).csv']\n"
     ]
    }
   ],
   "source": [
    "with zipfile.ZipFile(raw_data_path / \"Archive+2.zip\") as zip_ref:\n",
    "    # removing the macos resources\n",
    "    file_names = [f for f in zip_ref.namelist() if not re.match('__MACOSX/', f)]\n",
    "    print(file_names)\n",
    "    df1 = pd.read_csv(zip_ref.extract(file_names[0]))\n",
    "    df2 = pd.read_csv(zip_ref.extract(file_names[1]))\n",
    "    df3 = pd.read_csv(zip_ref.extract(file_names[2]))"
   ]
  },
  {
   "cell_type": "markdown",
   "id": "d4e0503f-7014-424d-a29f-9cc16291c43d",
   "metadata": {},
   "source": [
    "## 1.1. Knowing Data "
   ]
  },
  {
   "cell_type": "markdown",
   "id": "9cfb96a8-bd25-4784-bd3b-742a3f9f5634",
   "metadata": {},
   "source": [
    "### 1.1.1. Data Shape "
   ]
  },
  {
   "cell_type": "code",
   "execution_count": 51,
   "id": "98a849ec-6f7e-49bb-9f60-4b85c2607641",
   "metadata": {},
   "outputs": [
    {
     "name": "stdout",
     "output_type": "stream",
     "text": [
      "The dataset 1 shape is: (385, 18)\n",
      "---\n",
      "The dataset 2 shape is: (13941, 12)\n",
      "---\n",
      "The dataset 3 shape is: (2219, 33)\n"
     ]
    }
   ],
   "source": [
    "print(f'The dataset 1 shape is: {df1.shape}')\n",
    "print('---')\n",
    "print(f'The dataset 2 shape is: {df2.shape}')\n",
    "print('---')\n",
    "print(f'The dataset 3 shape is: {df3.shape}')"
   ]
  },
  {
   "cell_type": "markdown",
   "id": "54c6a6c4-0dfa-4c28-974d-a1f62bbb49a1",
   "metadata": {},
   "source": [
    "### 1.1.2. Type and Structure"
   ]
  },
  {
   "cell_type": "code",
   "execution_count": 10,
   "id": "7eaf0a08-66a9-4e4a-9b7e-4dcce338f5d7",
   "metadata": {},
   "outputs": [
    {
     "name": "stdout",
     "output_type": "stream",
     "text": [
      "<class 'pandas.core.frame.DataFrame'>\n",
      "RangeIndex: 385 entries, 0 to 384\n",
      "Data columns (total 18 columns):\n",
      " #   Column                                  Non-Null Count  Dtype  \n",
      "---  ------                                  --------------  -----  \n",
      " 0   CLINIC_ID                               385 non-null    int64  \n",
      " 1   STRIPE_SUBSCRIPTION_ID                  385 non-null    object \n",
      " 2   SUBSCRIPTION_START_DATE                 384 non-null    object \n",
      " 3   SUBSCRIPTION_END_DATE                   46 non-null     object \n",
      " 4   SUBSCRIPTION_CURRENT_PERIOD_STARTED_AT  385 non-null    object \n",
      " 5   SUBSCRIPTION_CURRENT_PERIOD_ENDS_AT     385 non-null    object \n",
      " 6   MOST_RECENT_INVOICE_CREATED_AT          385 non-null    object \n",
      " 7   LAST_PAYMENT_AT                         371 non-null    object \n",
      " 8   CHECKOUT_STATUS                         383 non-null    object \n",
      " 9   SUBSCRIPTION_STATUS                     383 non-null    object \n",
      " 10  BILLING_INTERVAL_IN_MONTHS              384 non-null    float64\n",
      " 11  FIRST_PAYMENT_METHOD_TYPE               384 non-null    object \n",
      " 12  FIRST_CARD_BRAND                        313 non-null    object \n",
      " 13  FIRST_PAYMENT_AMOUNT                    384 non-null    float64\n",
      " 14  FIRST_PAYMENT_AMOUNT_OFF                0 non-null      float64\n",
      " 15  FIRST_PAYMENT_PROMOTION_CODE            68 non-null     object \n",
      " 16  FIRST_PAYMENT_COUPON_ID                 73 non-null     object \n",
      " 17  FIRST_PAYMENT_AMOUNT_OFF_2              0 non-null      float64\n",
      "dtypes: float64(4), int64(1), object(13)\n",
      "memory usage: 54.3+ KB\n"
     ]
    }
   ],
   "source": [
    "df1.info()"
   ]
  },
  {
   "cell_type": "code",
   "execution_count": 11,
   "id": "13cd6e44-914b-41d1-8936-ba64c455d5f6",
   "metadata": {},
   "outputs": [
    {
     "name": "stdout",
     "output_type": "stream",
     "text": [
      "<class 'pandas.core.frame.DataFrame'>\n",
      "RangeIndex: 13941 entries, 0 to 13940\n",
      "Data columns (total 12 columns):\n",
      " #   Column                  Non-Null Count  Dtype \n",
      "---  ------                  --------------  ----- \n",
      " 0   CLINIC_ID               13941 non-null  int64 \n",
      " 1   ACTIVITY_AT             13941 non-null  object\n",
      " 2   ACTIVITY_TYPE           13941 non-null  object\n",
      " 3   FEATURE                 13941 non-null  object\n",
      " 4   MODULE                  13941 non-null  object\n",
      " 5   ANALYTICS_DOMAIN        13941 non-null  object\n",
      " 6   IS_TRANSACTION          13941 non-null  bool  \n",
      " 7   IS_BNPL_ACTIVITY        13941 non-null  bool  \n",
      " 8   IS_VALID_ACTIVITY       13941 non-null  bool  \n",
      " 9   IS_DELETION_ACTIVITY    13941 non-null  bool  \n",
      " 10  IS_MANAGEMENT_ACTIVITY  13941 non-null  bool  \n",
      " 11  IS_FINANCE_ACTIVITY     13941 non-null  bool  \n",
      "dtypes: bool(6), int64(1), object(5)\n",
      "memory usage: 735.3+ KB\n"
     ]
    }
   ],
   "source": [
    "df2.info()"
   ]
  },
  {
   "cell_type": "code",
   "execution_count": 12,
   "id": "4265e58a-38d7-486b-aafb-eaee39d04924",
   "metadata": {},
   "outputs": [
    {
     "name": "stdout",
     "output_type": "stream",
     "text": [
      "<class 'pandas.core.frame.DataFrame'>\n",
      "RangeIndex: 2219 entries, 0 to 2218\n",
      "Data columns (total 33 columns):\n",
      " #   Column                                      Non-Null Count  Dtype \n",
      "---  ------                                      --------------  ----- \n",
      " 0   CLINIC_ID                                   2219 non-null   int64 \n",
      " 1   CLINIC_CREATED_AT                           2219 non-null   object\n",
      " 2   BUSINESS_SEGMENTATION                       2219 non-null   object\n",
      " 3   IS_CHAIN_CLINIC                             2219 non-null   bool  \n",
      " 4   FIRST_USER_HUBSPOT_SOURCE                   2219 non-null   object\n",
      " 5   INTEREST_REASONS                            2066 non-null   object\n",
      " 6   INTEREST_CATEGORY_SIGNUP                    2219 non-null   object\n",
      " 7   HAS_INTEREST_BNPL                           2219 non-null   bool  \n",
      " 8   HAS_INTEREST_BNPL_ONLY                      2219 non-null   bool  \n",
      " 9   HAS_INTEREST_SAAS                           2219 non-null   bool  \n",
      " 10  TRIAL_DURATION                              2219 non-null   int64 \n",
      " 11  TRIAL_START_DATE                            2219 non-null   object\n",
      " 12  TRIAL_END_DATE                              2219 non-null   object\n",
      " 13  TRIAL_START_HOUR                            2219 non-null   int64 \n",
      " 14  TRIAL_START_HOUR_CATEGORY                   2219 non-null   object\n",
      " 15  TRIAL_START_DAY_OF_WEEK                     2219 non-null   int64 \n",
      " 16  TRIAL_START_DAY_OF_WEEK_CATEGORY            2219 non-null   object\n",
      " 17  HAS_USER_CREATED                            2219 non-null   bool  \n",
      " 18  MARKETING_ATTRIBUITION                      2219 non-null   object\n",
      " 19  MARKETING_ATTRIBUITION_CHANNEL_GROUP        2219 non-null   object\n",
      " 20  MARKETING_ATTRIBUITION_CAMPAIGN             1475 non-null   object\n",
      " 21  MARKETING_ATTRIBUITION_CAMPAIGN_PRODUCT     1468 non-null   object\n",
      " 22  MARKETING_ATTRIBUITION_AD_GROUP             331 non-null    object\n",
      " 23  IS_PAID_MEDIUM                              2219 non-null   bool  \n",
      " 24  HAS_ASKED_FOR_ACCREDITATION                 2219 non-null   bool  \n",
      " 25  HAS_STARTED_ACCREDITATION_AND_NOT_FINISHED  2219 non-null   bool  \n",
      " 26  IS_ACCREDITATION_APPROVED                   2219 non-null   bool  \n",
      " 27  IS_ACCREDITATION_REPROVED                   2219 non-null   bool  \n",
      " 28  CLINIC_ACCREDITATION_STATUS                 958 non-null    object\n",
      " 29  REQUEST_FINISHED_AT                         688 non-null    object\n",
      " 30  ACCREDITATION_REQUESTED_AT                  688 non-null    object\n",
      " 31  ACCREDITATION_APPROVED_AT                   536 non-null    object\n",
      " 32  ACCREDITATION_REJECTED_AT                   175 non-null    object\n",
      "dtypes: bool(10), int64(4), object(19)\n",
      "memory usage: 420.5+ KB\n"
     ]
    }
   ],
   "source": [
    "df3.info()"
   ]
  },
  {
   "cell_type": "code",
   "execution_count": null,
   "id": "4d741fcc-a177-4581-80d9-abc594bf6e0f",
   "metadata": {},
   "outputs": [],
   "source": []
  }
 ],
 "metadata": {
  "kernelspec": {
   "display_name": "Python 3 (ipykernel)",
   "language": "python",
   "name": "python3"
  },
  "language_info": {
   "codemirror_mode": {
    "name": "ipython",
    "version": 3
   },
   "file_extension": ".py",
   "mimetype": "text/x-python",
   "name": "python",
   "nbconvert_exporter": "python",
   "pygments_lexer": "ipython3",
   "version": "3.11.5"
  }
 },
 "nbformat": 4,
 "nbformat_minor": 5
}
