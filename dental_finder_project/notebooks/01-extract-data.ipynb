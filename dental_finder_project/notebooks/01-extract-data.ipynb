{
 "cells": [
  {
   "cell_type": "markdown",
   "id": "04c522e5-f8f2-4228-89d5-2307efb4cc85",
   "metadata": {
    "editable": true,
    "slideshow": {
     "slide_type": ""
    },
    "tags": []
   },
   "source": [
    "# 0.0. Imports"
   ]
  },
  {
   "cell_type": "code",
   "execution_count": 1,
   "id": "fb337eb7-1d84-4c12-8dd8-9464b9465eb5",
   "metadata": {},
   "outputs": [],
   "source": [
    "import pandas as pd\n",
    "import zipfile\n",
    "import re\n",
    "from pathlib import Path"
   ]
  },
  {
   "cell_type": "markdown",
   "id": "1da8bd79-5668-4111-94fe-1378dbf42d88",
   "metadata": {},
   "source": [
    "# 1.0. Load Data"
   ]
  },
  {
   "cell_type": "code",
   "execution_count": 2,
   "id": "8e881f97-cfa3-4790-b366-e9f78e55f878",
   "metadata": {},
   "outputs": [],
   "source": [
    "raw_data_path = Path().resolve().parent / \"data\" / \"raw/\""
   ]
  },
  {
   "cell_type": "code",
   "execution_count": 3,
   "id": "a8a1c11c-d21c-4727-9767-4b8c0c9d2929",
   "metadata": {},
   "outputs": [
    {
     "name": "stdout",
     "output_type": "stream",
     "text": [
      "['subscriptions (2).csv', 'activity (1).csv', 'clinics (1).csv']\n"
     ]
    }
   ],
   "source": [
    "with zipfile.ZipFile(raw_data_path / \"Archive+2.zip\") as zip_ref:\n",
    "    # removing the macos resources\n",
    "    file_names = [f for f in zip_ref.namelist() if not re.match('__MACOSX/', f)]\n",
    "    print(file_names)\n",
    "    df1 = pd.read_csv(zip_ref.extract(file_names[0]))\n",
    "    df2 = pd.read_csv(zip_ref.extract(file_names[1]))\n",
    "    df3 = pd.read_csv(zip_ref.extract(file_names[2]))"
   ]
  },
  {
   "cell_type": "markdown",
   "id": "d4e0503f-7014-424d-a29f-9cc16291c43d",
   "metadata": {},
   "source": [
    "## 1.1. Knowing Data "
   ]
  },
  {
   "cell_type": "markdown",
   "id": "9cfb96a8-bd25-4784-bd3b-742a3f9f5634",
   "metadata": {},
   "source": [
    "### 1.1.1. Data Shape "
   ]
  },
  {
   "cell_type": "code",
   "execution_count": 4,
   "id": "98a849ec-6f7e-49bb-9f60-4b85c2607641",
   "metadata": {},
   "outputs": [
    {
     "name": "stdout",
     "output_type": "stream",
     "text": [
      "The dataset 1 shape is: (385, 18)\n",
      "---\n",
      "The dataset 2 shape is: (13941, 12)\n",
      "---\n",
      "The dataset 3 shape is: (2219, 33)\n"
     ]
    }
   ],
   "source": [
    "print(f'The dataset 1 shape is: {df1.shape}')\n",
    "print('---')\n",
    "print(f'The dataset 2 shape is: {df2.shape}')\n",
    "print('---')\n",
    "print(f'The dataset 3 shape is: {df3.shape}')"
   ]
  },
  {
   "cell_type": "markdown",
   "id": "54c6a6c4-0dfa-4c28-974d-a1f62bbb49a1",
   "metadata": {},
   "source": [
    "### 1.1.2. Type and Structure"
   ]
  },
  {
   "cell_type": "code",
   "execution_count": 5,
   "id": "7eaf0a08-66a9-4e4a-9b7e-4dcce338f5d7",
   "metadata": {},
   "outputs": [
    {
     "name": "stdout",
     "output_type": "stream",
     "text": [
      "<class 'pandas.core.frame.DataFrame'>\n",
      "RangeIndex: 385 entries, 0 to 384\n",
      "Data columns (total 18 columns):\n",
      " #   Column                                  Non-Null Count  Dtype  \n",
      "---  ------                                  --------------  -----  \n",
      " 0   CLINIC_ID                               385 non-null    int64  \n",
      " 1   STRIPE_SUBSCRIPTION_ID                  385 non-null    object \n",
      " 2   SUBSCRIPTION_START_DATE                 384 non-null    object \n",
      " 3   SUBSCRIPTION_END_DATE                   46 non-null     object \n",
      " 4   SUBSCRIPTION_CURRENT_PERIOD_STARTED_AT  385 non-null    object \n",
      " 5   SUBSCRIPTION_CURRENT_PERIOD_ENDS_AT     385 non-null    object \n",
      " 6   MOST_RECENT_INVOICE_CREATED_AT          385 non-null    object \n",
      " 7   LAST_PAYMENT_AT                         371 non-null    object \n",
      " 8   CHECKOUT_STATUS                         383 non-null    object \n",
      " 9   SUBSCRIPTION_STATUS                     383 non-null    object \n",
      " 10  BILLING_INTERVAL_IN_MONTHS              384 non-null    float64\n",
      " 11  FIRST_PAYMENT_METHOD_TYPE               384 non-null    object \n",
      " 12  FIRST_CARD_BRAND                        313 non-null    object \n",
      " 13  FIRST_PAYMENT_AMOUNT                    384 non-null    float64\n",
      " 14  FIRST_PAYMENT_AMOUNT_OFF                0 non-null      float64\n",
      " 15  FIRST_PAYMENT_PROMOTION_CODE            68 non-null     object \n",
      " 16  FIRST_PAYMENT_COUPON_ID                 73 non-null     object \n",
      " 17  FIRST_PAYMENT_AMOUNT_OFF_2              0 non-null      float64\n",
      "dtypes: float64(4), int64(1), object(13)\n",
      "memory usage: 54.3+ KB\n"
     ]
    }
   ],
   "source": [
    "df1.info()"
   ]
  },
  {
   "cell_type": "code",
   "execution_count": 6,
   "id": "13cd6e44-914b-41d1-8936-ba64c455d5f6",
   "metadata": {},
   "outputs": [
    {
     "name": "stdout",
     "output_type": "stream",
     "text": [
      "<class 'pandas.core.frame.DataFrame'>\n",
      "RangeIndex: 13941 entries, 0 to 13940\n",
      "Data columns (total 12 columns):\n",
      " #   Column                  Non-Null Count  Dtype \n",
      "---  ------                  --------------  ----- \n",
      " 0   CLINIC_ID               13941 non-null  int64 \n",
      " 1   ACTIVITY_AT             13941 non-null  object\n",
      " 2   ACTIVITY_TYPE           13941 non-null  object\n",
      " 3   FEATURE                 13941 non-null  object\n",
      " 4   MODULE                  13941 non-null  object\n",
      " 5   ANALYTICS_DOMAIN        13941 non-null  object\n",
      " 6   IS_TRANSACTION          13941 non-null  bool  \n",
      " 7   IS_BNPL_ACTIVITY        13941 non-null  bool  \n",
      " 8   IS_VALID_ACTIVITY       13941 non-null  bool  \n",
      " 9   IS_DELETION_ACTIVITY    13941 non-null  bool  \n",
      " 10  IS_MANAGEMENT_ACTIVITY  13941 non-null  bool  \n",
      " 11  IS_FINANCE_ACTIVITY     13941 non-null  bool  \n",
      "dtypes: bool(6), int64(1), object(5)\n",
      "memory usage: 735.3+ KB\n"
     ]
    }
   ],
   "source": [
    "df2.info()"
   ]
  },
  {
   "cell_type": "code",
   "execution_count": 7,
   "id": "4265e58a-38d7-486b-aafb-eaee39d04924",
   "metadata": {},
   "outputs": [
    {
     "name": "stdout",
     "output_type": "stream",
     "text": [
      "<class 'pandas.core.frame.DataFrame'>\n",
      "RangeIndex: 2219 entries, 0 to 2218\n",
      "Data columns (total 33 columns):\n",
      " #   Column                                      Non-Null Count  Dtype \n",
      "---  ------                                      --------------  ----- \n",
      " 0   CLINIC_ID                                   2219 non-null   int64 \n",
      " 1   CLINIC_CREATED_AT                           2219 non-null   object\n",
      " 2   BUSINESS_SEGMENTATION                       2219 non-null   object\n",
      " 3   IS_CHAIN_CLINIC                             2219 non-null   bool  \n",
      " 4   FIRST_USER_HUBSPOT_SOURCE                   2219 non-null   object\n",
      " 5   INTEREST_REASONS                            2066 non-null   object\n",
      " 6   INTEREST_CATEGORY_SIGNUP                    2219 non-null   object\n",
      " 7   HAS_INTEREST_BNPL                           2219 non-null   bool  \n",
      " 8   HAS_INTEREST_BNPL_ONLY                      2219 non-null   bool  \n",
      " 9   HAS_INTEREST_SAAS                           2219 non-null   bool  \n",
      " 10  TRIAL_DURATION                              2219 non-null   int64 \n",
      " 11  TRIAL_START_DATE                            2219 non-null   object\n",
      " 12  TRIAL_END_DATE                              2219 non-null   object\n",
      " 13  TRIAL_START_HOUR                            2219 non-null   int64 \n",
      " 14  TRIAL_START_HOUR_CATEGORY                   2219 non-null   object\n",
      " 15  TRIAL_START_DAY_OF_WEEK                     2219 non-null   int64 \n",
      " 16  TRIAL_START_DAY_OF_WEEK_CATEGORY            2219 non-null   object\n",
      " 17  HAS_USER_CREATED                            2219 non-null   bool  \n",
      " 18  MARKETING_ATTRIBUITION                      2219 non-null   object\n",
      " 19  MARKETING_ATTRIBUITION_CHANNEL_GROUP        2219 non-null   object\n",
      " 20  MARKETING_ATTRIBUITION_CAMPAIGN             1475 non-null   object\n",
      " 21  MARKETING_ATTRIBUITION_CAMPAIGN_PRODUCT     1468 non-null   object\n",
      " 22  MARKETING_ATTRIBUITION_AD_GROUP             331 non-null    object\n",
      " 23  IS_PAID_MEDIUM                              2219 non-null   bool  \n",
      " 24  HAS_ASKED_FOR_ACCREDITATION                 2219 non-null   bool  \n",
      " 25  HAS_STARTED_ACCREDITATION_AND_NOT_FINISHED  2219 non-null   bool  \n",
      " 26  IS_ACCREDITATION_APPROVED                   2219 non-null   bool  \n",
      " 27  IS_ACCREDITATION_REPROVED                   2219 non-null   bool  \n",
      " 28  CLINIC_ACCREDITATION_STATUS                 958 non-null    object\n",
      " 29  REQUEST_FINISHED_AT                         688 non-null    object\n",
      " 30  ACCREDITATION_REQUESTED_AT                  688 non-null    object\n",
      " 31  ACCREDITATION_APPROVED_AT                   536 non-null    object\n",
      " 32  ACCREDITATION_REJECTED_AT                   175 non-null    object\n",
      "dtypes: bool(10), int64(4), object(19)\n",
      "memory usage: 420.5+ KB\n"
     ]
    }
   ],
   "source": [
    "df3.info()"
   ]
  },
  {
   "cell_type": "code",
   "execution_count": 8,
   "id": "4d741fcc-a177-4581-80d9-abc594bf6e0f",
   "metadata": {},
   "outputs": [
    {
     "data": {
      "text/plain": [
       "{'subscriptions (2).csv':      CLINIC_ID        STRIPE_SUBSCRIPTION_ID SUBSCRIPTION_START_DATE  \\\n",
       " 0         9000  sub_1NaOxzCpjOdJI4gTfqZ2epGB              2023-08-01   \n",
       " 1         9032  sub_1Namy7CpjOdJI4gTzrxPLlFg              2023-08-02   \n",
       " 2         9105  sub_1NalRdCpjOdJI4gTFRPqMhcv              2023-08-02   \n",
       " 3         9027  sub_1Nb3CECpjOdJI4gTFLOepcZD              2023-08-03   \n",
       " 4         9072  sub_1Nb7E2CpjOdJI4gTsIJIy9b1              2023-08-03   \n",
       " ..         ...                           ...                     ...   \n",
       " 380      11004  sub_1O2hVVCpjOdJI4gTyYw4eM8I              2023-10-18   \n",
       " 381      11242  sub_1O3028CpjOdJI4gTGwA9zyu5              2023-10-19   \n",
       " 382       9017  sub_1O2tjnCpjOdJI4gT1Ta31mBR              2023-10-19   \n",
       " 383      10598  sub_1O3H1rCpjOdJI4gTndMLUXUv              2023-10-20   \n",
       " 384      10979  sub_1O2fHvCpjOdJI4gTrnDDw6J3                     NaN   \n",
       " \n",
       "     SUBSCRIPTION_END_DATE SUBSCRIPTION_CURRENT_PERIOD_STARTED_AT  \\\n",
       " 0              2023-10-01                2023-09-01 17:14:51.000   \n",
       " 1                     NaN                2023-10-02 18:52:35.000   \n",
       " 2                     NaN                2023-10-02 17:14:57.000   \n",
       " 3              2023-09-03                2023-08-03 12:12:14.000   \n",
       " 4              2023-09-03                2023-08-03 16:30:22.000   \n",
       " ..                    ...                                    ...   \n",
       " 380                   NaN                2023-10-18 18:42:25.000   \n",
       " 381                   NaN                2023-10-19 14:29:20.000   \n",
       " 382                   NaN                2023-10-19 07:45:59.000   \n",
       " 383                   NaN                2023-10-20 08:38:11.000   \n",
       " 384                   NaN                2023-10-18 16:20:15.000   \n",
       " \n",
       "     SUBSCRIPTION_CURRENT_PERIOD_ENDS_AT MOST_RECENT_INVOICE_CREATED_AT  \\\n",
       " 0               2023-10-01 17:14:51.000        2023-09-01 17:16:49.000   \n",
       " 1               2023-11-02 18:52:35.000        2023-10-02 18:53:31.000   \n",
       " 2               2023-11-02 17:14:57.000        2023-10-02 17:16:56.000   \n",
       " 3               2023-09-03 12:12:14.000        2023-08-03 12:12:14.000   \n",
       " 4               2023-09-03 16:30:22.000        2023-08-03 16:30:22.000   \n",
       " ..                                  ...                            ...   \n",
       " 380             2023-11-18 18:42:25.000        2023-10-18 18:42:25.000   \n",
       " 381             2023-11-19 14:29:20.000        2023-10-19 14:29:20.000   \n",
       " 382             2023-11-19 07:45:59.000        2023-10-19 07:45:59.000   \n",
       " 383             2023-11-20 08:38:11.000        2023-10-20 08:38:11.000   \n",
       " 384             2024-10-18 16:20:15.000        2023-10-18 16:20:15.000   \n",
       " \n",
       "              LAST_PAYMENT_AT CHECKOUT_STATUS SUBSCRIPTION_STATUS  \\\n",
       " 0    2023-09-01 18:17:14.000        complete            canceled   \n",
       " 1    2023-08-09 10:20:45.000        complete            past_due   \n",
       " 2    2023-10-02 18:22:04.000        complete              active   \n",
       " 3    2023-08-03 12:12:16.000        complete            canceled   \n",
       " 4    2023-08-03 16:30:24.000        complete            canceled   \n",
       " ..                       ...             ...                 ...   \n",
       " 380  2023-10-18 18:42:27.000        complete              active   \n",
       " 381  2023-10-19 14:29:23.000        complete              active   \n",
       " 382  2023-10-19 07:55:08.000        complete              active   \n",
       " 383  2023-10-20 08:38:14.000        complete              active   \n",
       " 384                      NaN        complete          incomplete   \n",
       " \n",
       "      BILLING_INTERVAL_IN_MONTHS FIRST_PAYMENT_METHOD_TYPE FIRST_CARD_BRAND  \\\n",
       " 0                           1.0         Cartão de Crédito       mastercard   \n",
       " 1                           1.0         Cartão de Crédito             visa   \n",
       " 2                           1.0         Cartão de Crédito             visa   \n",
       " 3                           1.0         Cartão de Crédito             visa   \n",
       " 4                           1.0         Cartão de Crédito             visa   \n",
       " ..                          ...                       ...              ...   \n",
       " 380                         1.0         Cartão de Crédito             visa   \n",
       " 381                         1.0         Cartão de Crédito             visa   \n",
       " 382                         1.0         Cartão de Crédito             visa   \n",
       " 383                         1.0         Cartão de Crédito             visa   \n",
       " 384                         NaN                       NaN              NaN   \n",
       " \n",
       "      FIRST_PAYMENT_AMOUNT  FIRST_PAYMENT_AMOUNT_OFF  \\\n",
       " 0                    89.9                       NaN   \n",
       " 1                    89.9                       NaN   \n",
       " 2                    89.9                       NaN   \n",
       " 3                    89.9                       NaN   \n",
       " 4                    89.9                       NaN   \n",
       " ..                    ...                       ...   \n",
       " 380                  89.9                       NaN   \n",
       " 381                  89.9                       NaN   \n",
       " 382                  89.9                       NaN   \n",
       " 383                  89.9                       NaN   \n",
       " 384                   NaN                       NaN   \n",
       " \n",
       "     FIRST_PAYMENT_PROMOTION_CODE FIRST_PAYMENT_COUPON_ID  \\\n",
       " 0                            NaN                     NaN   \n",
       " 1                            NaN                     NaN   \n",
       " 2                            NaN                     NaN   \n",
       " 3                            NaN                     NaN   \n",
       " 4                            NaN                     NaN   \n",
       " ..                           ...                     ...   \n",
       " 380                          NaN                     NaN   \n",
       " 381                          NaN                     NaN   \n",
       " 382                          NaN                     NaN   \n",
       " 383                          NaN                     NaN   \n",
       " 384                          NaN                     NaN   \n",
       " \n",
       "      FIRST_PAYMENT_AMOUNT_OFF_2  \n",
       " 0                           NaN  \n",
       " 1                           NaN  \n",
       " 2                           NaN  \n",
       " 3                           NaN  \n",
       " 4                           NaN  \n",
       " ..                          ...  \n",
       " 380                         NaN  \n",
       " 381                         NaN  \n",
       " 382                         NaN  \n",
       " 383                         NaN  \n",
       " 384                         NaN  \n",
       " \n",
       " [385 rows x 18 columns],\n",
       " 'activity (1).csv':        CLINIC_ID              ACTIVITY_AT      ACTIVITY_TYPE  \\\n",
       " 0           9825  2023-08-24 18:46:47.733  patient_discarded   \n",
       " 1           9984  2023-08-24 19:41:43.497    patient_created   \n",
       " 2           9984  2023-08-24 19:41:44.037  time_slot_created   \n",
       " 3           9984  2023-08-24 19:51:20.451    patient_created   \n",
       " 4           9984  2023-08-24 19:51:46.663  time_slot_created   \n",
       " ...          ...                      ...                ...   \n",
       " 13936      11234  2023-10-19 14:29:27.826    revenue_created   \n",
       " 13937      11234  2023-10-19 14:37:20.492       pre_analysis   \n",
       " 13938      11234  2023-10-19 14:53:48.231       pre_analysis   \n",
       " 13939      10254  2023-10-19 15:09:50.063       pre_analysis   \n",
       " 13940      10254  2023-10-19 15:11:47.165       pre_analysis   \n",
       " \n",
       "                   FEATURE    MODULE ANALYTICS_DOMAIN  IS_TRANSACTION  \\\n",
       " 0      patient_management   patient          patient           False   \n",
       " 1      patient_management   patient          patient           False   \n",
       " 2              scheduling  schedule       scheduling           False   \n",
       " 3      patient_management   patient          patient           False   \n",
       " 4              scheduling  schedule       scheduling           False   \n",
       " ...                   ...       ...              ...             ...   \n",
       " 13936  revenue_management   finance          finance           False   \n",
       " 13937                bnpl   finance             bnpl           False   \n",
       " 13938                bnpl   finance             bnpl           False   \n",
       " 13939                bnpl   finance             bnpl           False   \n",
       " 13940                bnpl   finance             bnpl           False   \n",
       " \n",
       "        IS_BNPL_ACTIVITY  IS_VALID_ACTIVITY  IS_DELETION_ACTIVITY  \\\n",
       " 0                 False               True                  True   \n",
       " 1                 False              False                 False   \n",
       " 2                 False               True                 False   \n",
       " 3                 False              False                 False   \n",
       " 4                 False               True                 False   \n",
       " ...                 ...                ...                   ...   \n",
       " 13936             False               True                 False   \n",
       " 13937              True              False                 False   \n",
       " 13938              True              False                 False   \n",
       " 13939              True              False                 False   \n",
       " 13940              True              False                 False   \n",
       " \n",
       "        IS_MANAGEMENT_ACTIVITY  IS_FINANCE_ACTIVITY  \n",
       " 0                        True                False  \n",
       " 1                        True                False  \n",
       " 2                        True                False  \n",
       " 3                        True                False  \n",
       " 4                        True                False  \n",
       " ...                       ...                  ...  \n",
       " 13936                    True                False  \n",
       " 13937                   False                 True  \n",
       " 13938                   False                 True  \n",
       " 13939                   False                 True  \n",
       " 13940                   False                 True  \n",
       " \n",
       " [13941 rows x 12 columns],\n",
       " 'clinics (1).csv':       CLINIC_ID        CLINIC_CREATED_AT BUSINESS_SEGMENTATION  \\\n",
       " 0          8993  2023-08-01 06:25:16.121          Independente   \n",
       " 1          8994  2023-08-01 06:58:36.251          Independente   \n",
       " 2          8995  2023-08-01 06:59:23.156          Independente   \n",
       " 3          8996  2023-08-01 08:03:38.557          Independente   \n",
       " 4          8997  2023-08-01 08:34:33.894          Independente   \n",
       " ...         ...                      ...                   ...   \n",
       " 2214      11298  2023-09-30 19:03:32.254          Independente   \n",
       " 2215      11299  2023-09-30 21:40:10.910          Independente   \n",
       " 2216      11300  2023-09-30 22:06:36.081          Independente   \n",
       " 2217      11301  2023-09-30 22:15:43.568          Independente   \n",
       " 2218      11302  2023-09-30 22:38:48.529          Independente   \n",
       " \n",
       "       IS_CHAIN_CLINIC FIRST_USER_HUBSPOT_SOURCE  \\\n",
       " 0               False                   Inbound   \n",
       " 1               False                   Inbound   \n",
       " 2               False                   Inbound   \n",
       " 3               False                   Inbound   \n",
       " 4               False                   Inbound   \n",
       " ...               ...                       ...   \n",
       " 2214            False                   Inbound   \n",
       " 2215            False                   Inbound   \n",
       " 2216            False                   Inbound   \n",
       " 2217            False                   Inbound   \n",
       " 2218            False                   Inbound   \n",
       " \n",
       "                                        INTEREST_REASONS  \\\n",
       " 0     [\"bnpl\", \"finance_management\", \"patients_manag...   \n",
       " 1     [\"finance_management\", \"patients_management\", ...   \n",
       " 2                                              [\"bnpl\"]   \n",
       " 3     [\"calendar\", \"bnpl\", \"patients_management\", \"f...   \n",
       " 4                               [\"patients_management\"]   \n",
       " ...                                                 ...   \n",
       " 2214                                           [\"bnpl\"]   \n",
       " 2215                             [\"finance_management\"]   \n",
       " 2216                                           [\"bnpl\"]   \n",
       " 2217                                       [\"calendar\"]   \n",
       " 2218                                           [\"bnpl\"]   \n",
       " \n",
       "      INTEREST_CATEGORY_SIGNUP  HAS_INTEREST_BNPL  HAS_INTEREST_BNPL_ONLY  \\\n",
       " 0                 BNPL e SaaS               True                   False   \n",
       " 1                 BNPL e SaaS               True                   False   \n",
       " 2                 Apenas BNPL               True                    True   \n",
       " 3                 BNPL e SaaS               True                   False   \n",
       " 4                 Apenas SaaS              False                   False   \n",
       " ...                       ...                ...                     ...   \n",
       " 2214              Apenas BNPL               True                    True   \n",
       " 2215              Apenas SaaS              False                   False   \n",
       " 2216              Apenas BNPL               True                    True   \n",
       " 2217              Apenas SaaS              False                   False   \n",
       " 2218              Apenas BNPL               True                    True   \n",
       " \n",
       "       HAS_INTEREST_SAAS  ...  IS_PAID_MEDIUM HAS_ASKED_FOR_ACCREDITATION  \\\n",
       " 0                  True  ...            True                       False   \n",
       " 1                  True  ...            True                       False   \n",
       " 2                 False  ...            True                       False   \n",
       " 3                  True  ...            True                       False   \n",
       " 4                  True  ...            True                       False   \n",
       " ...                 ...  ...             ...                         ...   \n",
       " 2214              False  ...            True                       False   \n",
       " 2215               True  ...           False                       False   \n",
       " 2216              False  ...            True                       False   \n",
       " 2217               True  ...           False                       False   \n",
       " 2218              False  ...            True                       False   \n",
       " \n",
       "      HAS_STARTED_ACCREDITATION_AND_NOT_FINISHED  IS_ACCREDITATION_APPROVED  \\\n",
       " 0                                         False                      False   \n",
       " 1                                         False                      False   \n",
       " 2                                         False                      False   \n",
       " 3                                         False                      False   \n",
       " 4                                         False                      False   \n",
       " ...                                         ...                        ...   \n",
       " 2214                                      False                      False   \n",
       " 2215                                      False                      False   \n",
       " 2216                                      False                      False   \n",
       " 2217                                      False                      False   \n",
       " 2218                                      False                      False   \n",
       " \n",
       "      IS_ACCREDITATION_REPROVED  CLINIC_ACCREDITATION_STATUS  \\\n",
       " 0                        False                          NaN   \n",
       " 1                        False                          NaN   \n",
       " 2                        False                          NaN   \n",
       " 3                        False                          NaN   \n",
       " 4                        False                          NaN   \n",
       " ...                        ...                          ...   \n",
       " 2214                     False                          NaN   \n",
       " 2215                     False                          NaN   \n",
       " 2216                     False                          NaN   \n",
       " 2217                     False                          NaN   \n",
       " 2218                     False                          NaN   \n",
       " \n",
       "      REQUEST_FINISHED_AT  ACCREDITATION_REQUESTED_AT  \\\n",
       " 0                    NaN                         NaN   \n",
       " 1                    NaN                         NaN   \n",
       " 2                    NaN                         NaN   \n",
       " 3                    NaN                         NaN   \n",
       " 4                    NaN                         NaN   \n",
       " ...                  ...                         ...   \n",
       " 2214                 NaN                         NaN   \n",
       " 2215                 NaN                         NaN   \n",
       " 2216                 NaN                         NaN   \n",
       " 2217                 NaN                         NaN   \n",
       " 2218                 NaN                         NaN   \n",
       " \n",
       "      ACCREDITATION_APPROVED_AT ACCREDITATION_REJECTED_AT  \n",
       " 0                          NaN                       NaN  \n",
       " 1                          NaN                       NaN  \n",
       " 2                          NaN                       NaN  \n",
       " 3                          NaN                       NaN  \n",
       " 4                          NaN                       NaN  \n",
       " ...                        ...                       ...  \n",
       " 2214                       NaN                       NaN  \n",
       " 2215                       NaN                       NaN  \n",
       " 2216                       NaN                       NaN  \n",
       " 2217                       NaN                       NaN  \n",
       " 2218                       NaN                       NaN  \n",
       " \n",
       " [2219 rows x 33 columns]}"
      ]
     },
     "execution_count": 8,
     "metadata": {},
     "output_type": "execute_result"
    }
   ],
   "source": [
    "# Abre o arquivo zip file\n",
    "with zipfile.ZipFile(raw_data_path / \"Archive+2.zip\") as zip_file:\n",
    "\n",
    "    # Obtém uma lista dos nomes dos arquivos no arquivo zip\n",
    "    file_names = [f for f in zip_ref.namelist() if not re.match('__MACOSX/', f)]\n",
    "\n",
    "    # Inicializa um dicionário para armazenar os dados dos arquivos CSV\n",
    "    data = {}\n",
    "\n",
    "    # Itera pelos nomes dos arquivos\n",
    "    for file_name in file_names:\n",
    "\n",
    "        # Abre o arquivo CSV\n",
    "        with zip_file.open(file_name) as csv_file:\n",
    "\n",
    "            # Lê o arquivo CSV\n",
    "            data[file_name] = pd.read_csv(csv_file)\n",
    "\n",
    "# Retorna o dicionário\n",
    "data"
   ]
  },
  {
   "cell_type": "code",
   "execution_count": 11,
   "id": "c2d8e5c7-13b4-456a-8fc2-6369bd6692cb",
   "metadata": {},
   "outputs": [],
   "source": [
    "from dotenv import find_dotenv, load_dotenv"
   ]
  },
  {
   "cell_type": "code",
   "execution_count": 14,
   "id": "286e6c9a-197e-4061-89ff-d026c9d56ab0",
   "metadata": {},
   "outputs": [
    {
     "name": "stdout",
     "output_type": "stream",
     "text": [
      "True\n"
     ]
    }
   ],
   "source": [
    "print(load_dotenv(find_dotenv()))"
   ]
  },
  {
   "cell_type": "code",
   "execution_count": 17,
   "id": "a462b8a8-304f-42c4-a370-9efb86d48b05",
   "metadata": {},
   "outputs": [
    {
     "ename": "AttributeError",
     "evalue": "module 'dotenv' has no attribute 'get'",
     "output_type": "error",
     "traceback": [
      "\u001b[0;31m---------------------------------------------------------------------------\u001b[0m",
      "\u001b[0;31mAttributeError\u001b[0m                            Traceback (most recent call last)",
      "Cell \u001b[0;32mIn[17], line 7\u001b[0m\n\u001b[1;32m      4\u001b[0m dotenv\u001b[38;5;241m.\u001b[39mload_dotenv(find_dotenv())\n\u001b[1;32m      6\u001b[0m \u001b[38;5;66;03m# Chama a variável de ambiente PSQ_USER\u001b[39;00m\n\u001b[0;32m----> 7\u001b[0m psq_user \u001b[38;5;241m=\u001b[39m \u001b[43mdotenv\u001b[49m\u001b[38;5;241;43m.\u001b[39;49m\u001b[43mget\u001b[49m(\u001b[38;5;124m\"\u001b[39m\u001b[38;5;124mPOSTGRES_USER\u001b[39m\u001b[38;5;124m\"\u001b[39m)\n\u001b[1;32m      9\u001b[0m \u001b[38;5;28mprint\u001b[39m(psq_user)\n",
      "\u001b[0;31mAttributeError\u001b[0m: module 'dotenv' has no attribute 'get'"
     ]
    }
   ],
   "source": [
    "import dotenv\n",
    "\n",
    "# Carrega as variáveis de ambiente do arquivo .env\n",
    "dotenv.load_dotenv(find_dotenv())\n",
    "\n",
    "# Chama a variável de ambiente PSQ_USER\n",
    "psq_user = dotenv.get(\"POSTGRES_USER\")\n",
    "\n",
    "print(psq_user)"
   ]
  },
  {
   "cell_type": "code",
   "execution_count": null,
   "id": "865d00c1-4a03-41aa-bb20-f6665fc97361",
   "metadata": {},
   "outputs": [],
   "source": []
  }
 ],
 "metadata": {
  "kernelspec": {
   "display_name": "Python 3 (ipykernel)",
   "language": "python",
   "name": "python3"
  },
  "language_info": {
   "codemirror_mode": {
    "name": "ipython",
    "version": 3
   },
   "file_extension": ".py",
   "mimetype": "text/x-python",
   "name": "python",
   "nbconvert_exporter": "python",
   "pygments_lexer": "ipython3",
   "version": "3.11.5"
  }
 },
 "nbformat": 4,
 "nbformat_minor": 5
}
